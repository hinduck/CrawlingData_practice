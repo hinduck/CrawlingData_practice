{
 "cells": [
  {
   "cell_type": "code",
   "execution_count": 68,
   "metadata": {},
   "outputs": [],
   "source": [
    "from selenium import webdriver\n",
    "from selenium.webdriver.common.by import By\n",
    "from selenium.webdriver.common.keys import Keys\n",
    "from time import sleep"
   ]
  },
  {
   "cell_type": "code",
   "execution_count": 69,
   "metadata": {},
   "outputs": [
    {
     "name": "stderr",
     "output_type": "stream",
     "text": [
      "C:\\Users\\Hindu\\AppData\\Local\\Temp\\ipykernel_22252\\2292402320.py:3: DeprecationWarning: executable_path has been deprecated, please pass in a Service object\n",
      "  browser = webdriver.Edge(executable_path=\"./msedgedriver.exe\")\n"
     ]
    }
   ],
   "source": [
    "# browser variable\n",
    "\n",
    "browser = webdriver.Edge(executable_path=\"./msedgedriver.exe\")"
   ]
  },
  {
   "cell_type": "code",
   "execution_count": 70,
   "metadata": {},
   "outputs": [],
   "source": [
    "# Open a website\n",
    "\n",
    "browser.get(\"https://facebook.com\")"
   ]
  },
  {
   "cell_type": "code",
   "execution_count": 71,
   "metadata": {},
   "outputs": [],
   "source": [
    "# Username & Password\n",
    "\n",
    "myUsername = \"0937811400\"\n",
    "myPassword = \"01215619067\"\n",
    "\n",
    "txtUser = browser.find_element(By.ID, \"email\")\n",
    "txtUser.send_keys(myUsername)\n",
    "\n",
    "txtPassword = browser.find_element(By.ID, \"pass\")\n",
    "txtPassword.send_keys(myPassword)"
   ]
  },
  {
   "cell_type": "code",
   "execution_count": 72,
   "metadata": {},
   "outputs": [],
   "source": [
    "#Submit form (press ENTER)\n",
    "\n",
    "txtPassword.send_keys(Keys.ENTER)"
   ]
  },
  {
   "cell_type": "code",
   "execution_count": 73,
   "metadata": {},
   "outputs": [],
   "source": [
    "# Stop process 5 seconds\n",
    "\n",
    "sleep(5)"
   ]
  },
  {
   "cell_type": "code",
   "execution_count": 74,
   "metadata": {},
   "outputs": [],
   "source": [
    "# Close browsers\n",
    "\n",
    "browser.close()"
   ]
  }
 ],
 "metadata": {
  "kernelspec": {
   "display_name": "Python 3.10.6 64-bit",
   "language": "python",
   "name": "python3"
  },
  "language_info": {
   "codemirror_mode": {
    "name": "ipython",
    "version": 3
   },
   "file_extension": ".py",
   "mimetype": "text/x-python",
   "name": "python",
   "nbconvert_exporter": "python",
   "pygments_lexer": "ipython3",
   "version": "3.10.6"
  },
  "orig_nbformat": 4,
  "vscode": {
   "interpreter": {
    "hash": "00f0c06564fa8fbc2a479391365abd7a54eb269411ca0af854de3d33af9e9e43"
   }
  }
 },
 "nbformat": 4,
 "nbformat_minor": 2
}
