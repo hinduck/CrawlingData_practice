{
 "cells": [
  {
   "cell_type": "code",
   "execution_count": 57,
   "metadata": {},
   "outputs": [],
   "source": [
    "from selenium import webdriver\n",
    "from selenium.webdriver.common.by import By\n",
    "from selenium.webdriver.common.keys import Keys\n",
    "from time import sleep"
   ]
  },
  {
   "cell_type": "code",
   "execution_count": 58,
   "metadata": {},
   "outputs": [
    {
     "name": "stderr",
     "output_type": "stream",
     "text": [
      "C:\\Users\\Hindu\\AppData\\Local\\Temp\\ipykernel_18320\\2292402320.py:3: DeprecationWarning: executable_path has been deprecated, please pass in a Service object\n",
      "  browser = webdriver.Edge(executable_path=\"./msedgedriver.exe\")\n"
     ]
    }
   ],
   "source": [
    "# browser variable\n",
    "\n",
    "browser = webdriver.Edge(executable_path=\"./msedgedriver.exe\")"
   ]
  },
  {
   "cell_type": "code",
   "execution_count": 59,
   "metadata": {},
   "outputs": [],
   "source": [
    "#open URL's post\n",
    "\n",
    "browser.get(\"https://www.facebook.com/CocoonVietnamOfficial/posts/pfbid0AXpWhMnYB7XY71pADiC8pFT4qwGe71q5fhjhgKfyqh1CRbvVJbkVNzLtwQyD9erEl/\")\n",
    "browser.maximize_window()\n",
    "browser.execute_script(\"window.scrollTo(0, document.body.scrollHeight);\")\n",
    "\n",
    "sleep(5)"
   ]
  },
  {
   "cell_type": "code",
   "execution_count": 60,
   "metadata": {},
   "outputs": [],
   "source": [
    "#Get link show cmt\n",
    "\n",
    "show_cmt_link = browser.find_element(By.XPATH, \"/html/body/div[1]/div[2]/div[1]/div/div[2]/div[2]/div[2]/div[2]/div/div/div/div/div/div/div/div[1]/div/div[2]/div[2]/form/div[2]/div[2]/div[1]/div/div[3]/span[1]/a\")\n",
    "show_cmt_link.click()\n",
    "sleep(5)"
   ]
  },
  {
   "cell_type": "code",
   "execution_count": 61,
   "metadata": {},
   "outputs": [],
   "source": [
    "# Choose -> all cmts\n",
    "\n",
    "# show_cmt = browser.find_element(By.XPATH, \"/html/body/div[1]/div[2]/div[1]/div/div[2]/div[2]/div[2]/div[2]/div/div/div/div/div/div/div/div[1]/div/div[2]/div[2]/form/div[2]/div[3]/div[1]/div/div/div/div/a\")\n",
    "# show_cmt.click()\n",
    "# sleep(8)"
   ]
  },
  {
   "cell_type": "code",
   "execution_count": 62,
   "metadata": {},
   "outputs": [],
   "source": [
    "# All cmts\n",
    "\n",
    "# show_all_cmt = browser.find_element(By.XPATH, \"/html/body/div[1]/div[2]/div[3]/div/div/div/ul/li[3]/a\")\n",
    "# show_all_cmt.click()\n",
    "# sleep(5)"
   ]
  },
  {
   "cell_type": "code",
   "execution_count": 63,
   "metadata": {},
   "outputs": [],
   "source": [
    "#View more cmt\n",
    "\n",
    "show_more_cmt = browser.find_element(By.XPATH, \"/html/body/div[1]/div[2]/div[1]/div/div[2]/div[2]/div[2]/div[2]/div/div/div/div/div/div/div/div[1]/div/div[2]/div[2]/form/div[2]/div[3]/div[2]/div/a\")\n",
    "show_more_cmt.click()\n",
    "browser.execute_script(\"window.scrollTo(0, document.body.scrollHeight);\")\n",
    "sleep(5)\n"
   ]
  },
  {
   "cell_type": "code",
   "execution_count": 64,
   "metadata": {},
   "outputs": [],
   "source": [
    "# Stop process 5 seconds\n",
    "\n",
    "# sleep(5)"
   ]
  },
  {
   "cell_type": "code",
   "execution_count": 65,
   "metadata": {},
   "outputs": [],
   "source": [
    "# Close browsers\n",
    "\n",
    "# browser.close()"
   ]
  }
 ],
 "metadata": {
  "kernelspec": {
   "display_name": "Python 3.10.6 64-bit",
   "language": "python",
   "name": "python3"
  },
  "language_info": {
   "codemirror_mode": {
    "name": "ipython",
    "version": 3
   },
   "file_extension": ".py",
   "mimetype": "text/x-python",
   "name": "python",
   "nbconvert_exporter": "python",
   "pygments_lexer": "ipython3",
   "version": "3.10.6"
  },
  "orig_nbformat": 4,
  "vscode": {
   "interpreter": {
    "hash": "00f0c06564fa8fbc2a479391365abd7a54eb269411ca0af854de3d33af9e9e43"
   }
  }
 },
 "nbformat": 4,
 "nbformat_minor": 2
}
